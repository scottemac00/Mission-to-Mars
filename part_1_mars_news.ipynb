{
 "cells": [
  {
   "cell_type": "markdown",
   "metadata": {},
   "source": [
    "# Module 12 Challenge\n",
    "## Deliverable 1: Scrape Titles and Preview Text from Mars News"
   ]
  },
  {
   "cell_type": "code",
   "execution_count": 1,
   "metadata": {},
   "outputs": [],
   "source": [
    "# Import Splinter and BeautifulSoup\n",
    "from splinter import Browser\n",
    "from bs4 import BeautifulSoup as soup\n",
    "from webdriver_manager.chrome import ChromeDriverManager\n",
    "import pandas as pd"
   ]
  },
  {
   "cell_type": "code",
   "execution_count": 2,
   "metadata": {
    "scrolled": true
   },
   "outputs": [],
   "source": [
    "\n",
    "executable_path = {'executable_path': ChromeDriverManager().install()}\n",
    "browser = Browser('chrome', **executable_path, headless=False)"
   ]
  },
  {
   "cell_type": "markdown",
   "metadata": {},
   "source": [
    "### Step 1: Visit the Website\n",
    "\n",
    "1. Use automated browsing to visit the [Mars NASA news site](https://redplanetscience.com). Inspect the page to identify which elements to scrape.\n",
    "\n",
    "      > **Hint** To identify which elements to scrape, you might want to inspect the page by using Chrome DevTools."
   ]
  },
  {
   "cell_type": "code",
   "execution_count": 3,
   "metadata": {},
   "outputs": [],
   "source": [
    "# Visit the Mars NASA news site: https://redplanetscience.com\n",
    "url = 'https://redplanetscience.com'\n",
    "browser.visit(url)"
   ]
  },
  {
   "cell_type": "markdown",
   "metadata": {},
   "source": [
    "### Step 2: Scrape the Website\n",
    "\n",
    "Create a Beautiful Soup object and use it to extract text elements from the website."
   ]
  },
  {
   "cell_type": "code",
   "execution_count": 4,
   "metadata": {},
   "outputs": [],
   "source": [
    "# Create a Beautiful Soup object\n",
    "html = browser.html\n",
    "news_soup = soup(html, 'html.parser')"
   ]
  },
  {
   "cell_type": "code",
   "execution_count": 8,
   "metadata": {
    "scrolled": true
   },
   "outputs": [
    {
     "data": {
      "text/plain": [
       "[<div class=\"list_text\">\n",
       " <div class=\"list_date\">December 20, 2022</div>\n",
       " <div class=\"content_title\">NASA's Mars 2020 Rover Goes Coast-to-Coast to Prep for Launch</div>\n",
       " <div class=\"article_teaser_body\">The agency's first step in returning rocks from Mars just arrived at Kennedy Space Center. The Mars 2020 team now begins readying for a launch to the Red Planet this July.</div>\n",
       " </div>,\n",
       " <div class=\"list_text\">\n",
       " <div class=\"list_date\">December 19, 2022</div>\n",
       " <div class=\"content_title\">Mars 2020 Stands on Its Own Six Wheels</div>\n",
       " <div class=\"article_teaser_body\">In time-lapse video, taken at JPL, captures the first time NASA's Mars 2020 rover carries its full weight on its legs and wheels.</div>\n",
       " </div>,\n",
       " <div class=\"list_text\">\n",
       " <div class=\"list_date\">December 18, 2022</div>\n",
       " <div class=\"content_title\">NASA's Ingenuity Mars Helicopter Recharges Its Batteries in Flight</div>\n",
       " <div class=\"article_teaser_body\">Headed to the Red Planet with the Perseverance rover, the pioneering helicopter is powered up for the first time in interplanetary space as part of a systems check.</div>\n",
       " </div>,\n",
       " <div class=\"list_text\">\n",
       " <div class=\"list_date\">December 17, 2022</div>\n",
       " <div class=\"content_title\">NASA Invites Students to Name Mars 2020 Rover</div>\n",
       " <div class=\"article_teaser_body\">Through Nov. 1, K-12 students in the U.S. are encouraged to enter an essay contest to name NASA's next Mars rover.</div>\n",
       " </div>,\n",
       " <div class=\"list_text\">\n",
       " <div class=\"list_date\">December 16, 2022</div>\n",
       " <div class=\"content_title\">NASA's Perseverance Mars Rover Gets Its Wheels and Air Brakes</div>\n",
       " <div class=\"article_teaser_body\">After the rover was shipped from JPL to Kennedy Space Center, the team is getting closer to finalizing the spacecraft for launch later this summer.</div>\n",
       " </div>,\n",
       " <div class=\"list_text\">\n",
       " <div class=\"list_date\">December 8, 2022</div>\n",
       " <div class=\"content_title\">NASA's Briefcase-Size MarCO Satellite Picks Up Honors</div>\n",
       " <div class=\"article_teaser_body\">The twin spacecraft, the first of their kind to fly into deep space, earn a Laureate from Aviation Week &amp; Space Technology.</div>\n",
       " </div>,\n",
       " <div class=\"list_text\">\n",
       " <div class=\"list_date\">December 4, 2022</div>\n",
       " <div class=\"content_title\">Heat and Dust Help Launch Martian Water Into Space, Scientists Find</div>\n",
       " <div class=\"article_teaser_body\">Scientists using an instrument aboard NASA’s Mars Atmosphere and Volatile EvolutioN, or MAVEN, spacecraft have discovered that water vapor near the surface of the Red Planet is lofted higher into the atmosphere than anyone expected was possible. </div>\n",
       " </div>,\n",
       " <div class=\"list_text\">\n",
       " <div class=\"list_date\">December 3, 2022</div>\n",
       " <div class=\"content_title\">NASA Wins Two Emmy Awards for Interactive Mission Coverage</div>\n",
       " <div class=\"article_teaser_body\">NASA-JPL's coverage of the Mars InSight landing earns one of the two wins, making this the NASA center's second Emmy.</div>\n",
       " </div>,\n",
       " <div class=\"list_text\">\n",
       " <div class=\"list_date\">December 3, 2022</div>\n",
       " <div class=\"content_title\">All About the Laser (and Microphone) Atop Mars 2020, NASA's Next Rover</div>\n",
       " <div class=\"article_teaser_body\">SuperCam is a rock-vaporizing instrument that will help scientists hunt for Mars fossils.</div>\n",
       " </div>,\n",
       " <div class=\"list_text\">\n",
       " <div class=\"list_date\">November 30, 2022</div>\n",
       " <div class=\"content_title\">8 Martian Postcards to Celebrate Curiosity's Landing Anniversary</div>\n",
       " <div class=\"article_teaser_body\">The NASA rover touched down eight years ago, on Aug. 5, 2012, and will soon be joined by a second rover, Perseverance.</div>\n",
       " </div>,\n",
       " <div class=\"list_text\">\n",
       " <div class=\"list_date\">November 29, 2022</div>\n",
       " <div class=\"content_title\">NASA's InSight Flexes Its Arm While Its 'Mole' Hits Pause</div>\n",
       " <div class=\"article_teaser_body\">Now that the lander's robotic arm has helped the mole get underground, it will resume science activities that have been on hold.</div>\n",
       " </div>,\n",
       " <div class=\"list_text\">\n",
       " <div class=\"list_date\">November 29, 2022</div>\n",
       " <div class=\"content_title\">MAVEN Maps Electric Currents around Mars that are Fundamental to Atmospheric Loss</div>\n",
       " <div class=\"article_teaser_body\">Five years after NASA’s MAVEN spacecraft entered into orbit around Mars, data from the mission has led to the creation of a map of electric current systems in the Martian atmosphere.</div>\n",
       " </div>,\n",
       " <div class=\"list_text\">\n",
       " <div class=\"list_date\">November 27, 2022</div>\n",
       " <div class=\"content_title\">NASA's MAVEN Explores Mars to Understand Radio Interference at Earth</div>\n",
       " <div class=\"article_teaser_body\">NASA’s MAVEN spacecraft has discovered “layers” and “rifts” in the electrically charged part of the upper atmosphere of Mars.</div>\n",
       " </div>,\n",
       " <div class=\"list_text\">\n",
       " <div class=\"list_date\">November 26, 2022</div>\n",
       " <div class=\"content_title\">NASA's Mars 2020 Rover Completes Its First Drive</div>\n",
       " <div class=\"article_teaser_body\">In a 10-plus-hour marathon, the rover steered, turned and drove in 3-foot (1-meter) increments over small ramps.</div>\n",
       " </div>,\n",
       " <div class=\"list_text\">\n",
       " <div class=\"list_date\">November 24, 2022</div>\n",
       " <div class=\"content_title\">Mars InSight Lander to Push on Top of the 'Mole'</div>\n",
       " <div class=\"article_teaser_body\">Engineers have a plan for pushing down on the heat probe, which has been stuck at the Martian surface for a year.</div>\n",
       " </div>]"
      ]
     },
     "execution_count": 8,
     "metadata": {},
     "output_type": "execute_result"
    }
   ],
   "source": [
    "# Extract all the text elements\n",
    "text_ments=news_soup.find_all('div', class_='list_text')\n",
    "text_ments"
   ]
  },
  {
   "cell_type": "code",
   "execution_count": 6,
   "metadata": {},
   "outputs": [
    {
     "name": "stdout",
     "output_type": "stream",
     "text": [
      "NASA's Mars 2020 Rover Goes Coast-to-Coast to Prep for Launch\n",
      "Mars 2020 Stands on Its Own Six Wheels\n",
      "NASA's Ingenuity Mars Helicopter Recharges Its Batteries in Flight\n",
      "NASA Invites Students to Name Mars 2020 Rover\n",
      "NASA's Perseverance Mars Rover Gets Its Wheels and Air Brakes\n",
      "NASA's Briefcase-Size MarCO Satellite Picks Up Honors\n",
      "Heat and Dust Help Launch Martian Water Into Space, Scientists Find\n",
      "NASA Wins Two Emmy Awards for Interactive Mission Coverage\n",
      "All About the Laser (and Microphone) Atop Mars 2020, NASA's Next Rover\n",
      "8 Martian Postcards to Celebrate Curiosity's Landing Anniversary\n",
      "NASA's InSight Flexes Its Arm While Its 'Mole' Hits Pause\n",
      "MAVEN Maps Electric Currents around Mars that are Fundamental to Atmospheric Loss\n",
      "NASA's MAVEN Explores Mars to Understand Radio Interference at Earth\n",
      "NASA's Mars 2020 Rover Completes Its First Drive\n",
      "Mars InSight Lander to Push on Top of the 'Mole'\n"
     ]
    }
   ],
   "source": [
    "for title in news_soup.find_all('div', class_='content_title'):\n",
    "    print(title.text)"
   ]
  },
  {
   "cell_type": "code",
   "execution_count": 7,
   "metadata": {
    "scrolled": true
   },
   "outputs": [
    {
     "name": "stdout",
     "output_type": "stream",
     "text": [
      "The agency's first step in returning rocks from Mars just arrived at Kennedy Space Center. The Mars 2020 team now begins readying for a launch to the Red Planet this July.\n",
      "In time-lapse video, taken at JPL, captures the first time NASA's Mars 2020 rover carries its full weight on its legs and wheels.\n",
      "Headed to the Red Planet with the Perseverance rover, the pioneering helicopter is powered up for the first time in interplanetary space as part of a systems check.\n",
      "Through Nov. 1, K-12 students in the U.S. are encouraged to enter an essay contest to name NASA's next Mars rover.\n",
      "After the rover was shipped from JPL to Kennedy Space Center, the team is getting closer to finalizing the spacecraft for launch later this summer.\n",
      "The twin spacecraft, the first of their kind to fly into deep space, earn a Laureate from Aviation Week & Space Technology.\n",
      "Scientists using an instrument aboard NASA’s Mars Atmosphere and Volatile EvolutioN, or MAVEN, spacecraft have discovered that water vapor near the surface of the Red Planet is lofted higher into the atmosphere than anyone expected was possible. \n",
      "NASA-JPL's coverage of the Mars InSight landing earns one of the two wins, making this the NASA center's second Emmy.\n",
      "SuperCam is a rock-vaporizing instrument that will help scientists hunt for Mars fossils.\n",
      "The NASA rover touched down eight years ago, on Aug. 5, 2012, and will soon be joined by a second rover, Perseverance.\n",
      "Now that the lander's robotic arm has helped the mole get underground, it will resume science activities that have been on hold.\n",
      "Five years after NASA’s MAVEN spacecraft entered into orbit around Mars, data from the mission has led to the creation of a map of electric current systems in the Martian atmosphere.\n",
      "NASA’s MAVEN spacecraft has discovered “layers” and “rifts” in the electrically charged part of the upper atmosphere of Mars.\n",
      "In a 10-plus-hour marathon, the rover steered, turned and drove in 3-foot (1-meter) increments over small ramps.\n",
      "Engineers have a plan for pushing down on the heat probe, which has been stuck at the Martian surface for a year.\n"
     ]
    }
   ],
   "source": [
    "for preview in news_soup.find_all('div', class_='article_teaser_body'):\n",
    "    print(preview.text)"
   ]
  },
  {
   "cell_type": "markdown",
   "metadata": {},
   "source": [
    "### Step 3: Store the Results\n",
    "\n",
    "Extract the titles and preview text of the news articles that you scraped. Store the scraping results in Python data structures as follows:\n",
    "\n",
    "* Store each title-and-preview pair in a Python dictionary. And, give each dictionary two keys: `title` and `preview`. An example is the following:\n",
    "\n",
    "  ```python\n",
    "  {'title': \"Mars Rover Begins Mission!\", \n",
    "        'preview': \"NASA's Mars Rover begins a multiyear mission to collect data about the little-explored planet.\"}\n",
    "  ```\n",
    "\n",
    "* Store all the dictionaries in a Python list.\n",
    "\n",
    "* Print the list in your notebook."
   ]
  },
  {
   "cell_type": "code",
   "execution_count": 9,
   "metadata": {},
   "outputs": [],
   "source": [
    "# Create an empty list to store the dictionaries\n",
    "mars_news = []"
   ]
  },
  {
   "cell_type": "code",
   "execution_count": 11,
   "metadata": {},
   "outputs": [],
   "source": [
    "# Loop through the text elements\n",
    "# Extract the title and preview text from the elements\n",
    "# Store each title and preview pair in a dictionary\n",
    "# Add the dictionary to the list\n",
    "for x in text_ments:\n",
    "    title = x.find('div', class_='content_title').text\n",
    "    preview = x.find('div', class_='article_teaser_body').text\n",
    "    news = {}\n",
    "    news['title']=title\n",
    "    news['preview']=preview\n",
    "    mars_news.append(news)"
   ]
  },
  {
   "cell_type": "code",
   "execution_count": 12,
   "metadata": {
    "scrolled": true
   },
   "outputs": [
    {
     "data": {
      "text/plain": [
       "[{'title': \"NASA's Mars 2020 Rover Goes Coast-to-Coast to Prep for Launch\",\n",
       "  'preview': \"The agency's first step in returning rocks from Mars just arrived at Kennedy Space Center. The Mars 2020 team now begins readying for a launch to the Red Planet this July.\"},\n",
       " {'title': 'Mars 2020 Stands on Its Own Six Wheels',\n",
       "  'preview': \"In time-lapse video, taken at JPL, captures the first time NASA's Mars 2020 rover carries its full weight on its legs and wheels.\"},\n",
       " {'title': \"NASA's Ingenuity Mars Helicopter Recharges Its Batteries in Flight\",\n",
       "  'preview': 'Headed to the Red Planet with the Perseverance rover, the pioneering helicopter is powered up for the first time in interplanetary space as part of a systems check.'},\n",
       " {'title': 'NASA Invites Students to Name Mars 2020 Rover',\n",
       "  'preview': \"Through Nov. 1, K-12 students in the U.S. are encouraged to enter an essay contest to name NASA's next Mars rover.\"},\n",
       " {'title': \"NASA's Perseverance Mars Rover Gets Its Wheels and Air Brakes\",\n",
       "  'preview': 'After the rover was shipped from JPL to Kennedy Space Center, the team is getting closer to finalizing the spacecraft for launch later this summer.'},\n",
       " {'title': \"NASA's Briefcase-Size MarCO Satellite Picks Up Honors\",\n",
       "  'preview': 'The twin spacecraft, the first of their kind to fly into deep space, earn a Laureate from Aviation Week & Space Technology.'},\n",
       " {'title': 'Heat and Dust Help Launch Martian Water Into Space, Scientists Find',\n",
       "  'preview': 'Scientists using an instrument aboard NASA’s Mars Atmosphere and Volatile EvolutioN, or MAVEN, spacecraft have discovered that water vapor near the surface of the Red Planet is lofted higher into the atmosphere than anyone expected was possible. '},\n",
       " {'title': 'NASA Wins Two Emmy Awards for Interactive Mission Coverage',\n",
       "  'preview': \"NASA-JPL's coverage of the Mars InSight landing earns one of the two wins, making this the NASA center's second Emmy.\"},\n",
       " {'title': \"All About the Laser (and Microphone) Atop Mars 2020, NASA's Next Rover\",\n",
       "  'preview': 'SuperCam is a rock-vaporizing instrument that will help scientists hunt for Mars fossils.'},\n",
       " {'title': \"8 Martian Postcards to Celebrate Curiosity's Landing Anniversary\",\n",
       "  'preview': 'The NASA rover touched down eight years ago, on Aug. 5, 2012, and will soon be joined by a second rover, Perseverance.'},\n",
       " {'title': \"NASA's InSight Flexes Its Arm While Its 'Mole' Hits Pause\",\n",
       "  'preview': \"Now that the lander's robotic arm has helped the mole get underground, it will resume science activities that have been on hold.\"},\n",
       " {'title': 'MAVEN Maps Electric Currents around Mars that are Fundamental to Atmospheric Loss',\n",
       "  'preview': 'Five years after NASA’s MAVEN spacecraft entered into orbit around Mars, data from the mission has led to the creation of a map of electric current systems in the Martian atmosphere.'},\n",
       " {'title': \"NASA's MAVEN Explores Mars to Understand Radio Interference at Earth\",\n",
       "  'preview': 'NASA’s MAVEN spacecraft has discovered “layers” and “rifts” in the electrically charged part of the upper atmosphere of Mars.'},\n",
       " {'title': \"NASA's Mars 2020 Rover Completes Its First Drive\",\n",
       "  'preview': 'In a 10-plus-hour marathon, the rover steered, turned and drove in 3-foot (1-meter) increments over small ramps.'},\n",
       " {'title': \"Mars InSight Lander to Push on Top of the 'Mole'\",\n",
       "  'preview': 'Engineers have a plan for pushing down on the heat probe, which has been stuck at the Martian surface for a year.'}]"
      ]
     },
     "execution_count": 12,
     "metadata": {},
     "output_type": "execute_result"
    }
   ],
   "source": [
    "# Print the list to confirm success\n",
    "mars_news"
   ]
  },
  {
   "cell_type": "code",
   "execution_count": 13,
   "metadata": {},
   "outputs": [],
   "source": [
    "browser.quit()"
   ]
  },
  {
   "cell_type": "markdown",
   "metadata": {},
   "source": [
    "### (Optional) Step 4: Export the Data\n",
    "\n",
    "Optionally, store the scraped data in a file or database (to ease sharing the data with others). To do so, export the scraped data to either a JSON file or a MongoDB database."
   ]
  },
  {
   "cell_type": "code",
   "execution_count": 14,
   "metadata": {},
   "outputs": [],
   "source": [
    "# Export data to JSON\n",
    "import json\n",
    "with open('mars_news.json', 'w') as f:\n",
    "    json.dump(mars_news, f)"
   ]
  },
  {
   "cell_type": "code",
   "execution_count": null,
   "metadata": {},
   "outputs": [],
   "source": [
    "# Export data to MongoDB\n"
   ]
  }
 ],
 "metadata": {
  "kernelspec": {
   "display_name": "Python 3 (ipykernel)",
   "language": "python",
   "name": "python3"
  },
  "language_info": {
   "codemirror_mode": {
    "name": "ipython",
    "version": 3
   },
   "file_extension": ".py",
   "mimetype": "text/x-python",
   "name": "python",
   "nbconvert_exporter": "python",
   "pygments_lexer": "ipython3",
   "version": "3.7.13"
  }
 },
 "nbformat": 4,
 "nbformat_minor": 4
}
